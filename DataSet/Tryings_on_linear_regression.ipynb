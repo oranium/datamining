{
 "cells": [
  {
   "cell_type": "code",
   "execution_count": 9,
   "metadata": {},
   "outputs": [
    {
     "name": "stdout",
     "output_type": "stream",
     "text": [
      "     ID  Reason for absence  Month of absence  Day of the week  Seasons  \\\n",
      "0    11                  26                 7                3        1   \n",
      "1    36                   0                 7                3        1   \n",
      "2     3                  23                 7                4        1   \n",
      "3     7                   7                 7                5        1   \n",
      "4    11                  23                 7                5        1   \n",
      "..   ..                 ...               ...              ...      ...   \n",
      "735  11                  14                 7                3        1   \n",
      "736   1                  11                 7                3        1   \n",
      "737   4                   0                 0                3        1   \n",
      "738   8                   0                 0                4        2   \n",
      "739  35                   0                 0                6        3   \n",
      "\n",
      "     Transportation expense  Distance from Residence to Work  Service time  \\\n",
      "0                       289                               36            13   \n",
      "1                       118                               13            18   \n",
      "2                       179                               51            18   \n",
      "3                       279                                5            14   \n",
      "4                       289                               36            13   \n",
      "..                      ...                              ...           ...   \n",
      "735                     289                               36            13   \n",
      "736                     235                               11            14   \n",
      "737                     118                               14            13   \n",
      "738                     231                               35            14   \n",
      "739                     179                               45            14   \n",
      "\n",
      "     Age  Work load Average/day   ...  Disciplinary failure  Education  Son  \\\n",
      "0     33                 239.554  ...                     0          1    2   \n",
      "1     50                 239.554  ...                     1          1    1   \n",
      "2     38                 239.554  ...                     0          1    0   \n",
      "3     39                 239.554  ...                     0          1    2   \n",
      "4     33                 239.554  ...                     0          1    2   \n",
      "..   ...                     ...  ...                   ...        ...  ...   \n",
      "735   33                 264.604  ...                     0          1    2   \n",
      "736   37                 264.604  ...                     0          3    1   \n",
      "737   40                 271.219  ...                     0          1    1   \n",
      "738   39                 271.219  ...                     0          1    2   \n",
      "739   53                 271.219  ...                     0          1    1   \n",
      "\n",
      "     Social drinker  Social smoker  Pet  Weight  Height  Body mass index  \\\n",
      "0                 1              0    1      90     172               30   \n",
      "1                 1              0    0      98     178               31   \n",
      "2                 1              0    0      89     170               31   \n",
      "3                 1              1    0      68     168               24   \n",
      "4                 1              0    1      90     172               30   \n",
      "..              ...            ...  ...     ...     ...              ...   \n",
      "735               1              0    1      90     172               30   \n",
      "736               0              0    1      88     172               29   \n",
      "737               1              0    8      98     170               34   \n",
      "738               1              0    2     100     170               35   \n",
      "739               0              0    1      77     175               25   \n",
      "\n",
      "     Absenteeism time in hours  \n",
      "0                            4  \n",
      "1                            0  \n",
      "2                            2  \n",
      "3                            4  \n",
      "4                            2  \n",
      "..                         ...  \n",
      "735                          8  \n",
      "736                          4  \n",
      "737                          0  \n",
      "738                          0  \n",
      "739                          0  \n",
      "\n",
      "[740 rows x 21 columns]\n"
     ]
    }
   ],
   "source": [
    "# Numpy for data management\n",
    "import numpy as np\n",
    "\n",
    "# Matplotlib for additional customization\n",
    "from matplotlib import pyplot as plt\n",
    "%matplotlib inline\n",
    "\n",
    "# Pandas also for data management\n",
    "import pandas as pd\n",
    "import io\n",
    "# Seaborn for plotting and styling\n",
    "import seaborn as sns\n",
    "sns.set_style(\"darkgrid\")\n",
    "\n",
    "\n",
    "df2 = pd.read_csv('Absenteeism_at_work.csv',sep=';')\n",
    "# Dataset is now stored in a Pandas Dataframe\n",
    "df2.shape\n",
    "print(df2)\n",
    "\n"
   ]
  },
  {
   "cell_type": "code",
   "execution_count": 10,
   "metadata": {},
   "outputs": [
    {
     "name": "stdout",
     "output_type": "stream",
     "text": [
      "0      4\n",
      "1      0\n",
      "2      2\n",
      "3      4\n",
      "4      2\n",
      "      ..\n",
      "735    8\n",
      "736    4\n",
      "737    0\n",
      "738    0\n",
      "739    0\n",
      "Name: Absenteeism time in hours, Length: 740, dtype: int64\n",
      "[  4   0   2   4   2   2   8   4  40   8   8   8   8   1   4   8   2   8\n",
      "   8   2   8   1  40   4   8   7   1   4   8   2   8   8   4   8   2   1\n",
      "   8   4   8   4   2   4   4   8   2   3   3   4   8  32   0   0   2   2\n",
      "   0   0   3   3   0   1   3   4   3   3   0   1   3   3   3   2   2   5\n",
      "   8   3  16   8   2   8   1   3   1   1   8   8   5  32   8  40   1   8\n",
      "   3   8   3   4   1   3  24   3   1  64   2   8   2   8  56   8   3   3\n",
      "   2   8   2   8   2   1   1   1   8   2   2   2   1   2   2   2   2   2\n",
      "   2   2   2   8   8   2   2   2   0   1   3   1   8   8   2   8   2   8\n",
      "   8   8   2   2   1   8   3   8   1   1   8   2   8   3   8   8   8   8\n",
      "   3  40  40  16  16   8   8   8   4   1   8  24   2   8   1   8  16   3\n",
      "  16   2   3   1   1   1   1  24   1   2   4  24   1   3   8   1   8  56\n",
      "   8  24   8  16   3   0   8   2   1   8   8   4   2   1  24   0   0   0\n",
      "   0   1  24   8   8   8  24   4   8   8   4   8   8  16   1  80   8   2\n",
      "   2   2  16   8   8   4   8   8   2   8   8   3   8   8   8  32   8   0\n",
      "   8   3   1   8   1   2   4   4   1   8   1   3   2   1   1   8   8   8\n",
      "   8   3  24   0  16   3   0   0   8  32   1   4   4   8   1   0   3  40\n",
      "   8   8   4   8   8   0   0   8   3   8   1  64   0  16   3   0   2   2\n",
      "   1   4  16   1   8   0   0   0   5   5   1   8   2   8   3   1   8 120\n",
      "   8   0   1   3   2   3   8   4   8   1   8   8   0   0   1   3   2   1\n",
      "   3   1   4   8   1   1   1   8   2   1   8   4   8   2   3   8   5  32\n",
      "   2   1   4   8   8   8   4   1   1   2   3   1   3   3   3   2   3   8\n",
      "   8   3   8   3   2   2  16   3   3  24   3   3   8  16   2   4   2   8\n",
      "   8   8  16   8   0   8   2   3   8   0   0   0   8   8   8   2   4   3\n",
      "   4   4   4   8   8   1 120   8   4   4   2  16   2   8   3   4   1   3\n",
      "   2   3   8   3   8   2   1   8   3   3   3   2   4   4   0  40  24   3\n",
      "   4   8   2   2   2   8   2   2   1   8   2   4   8   8   8   8   4   8\n",
      "   8   1   2 112   1   1   8   8   8   2   1   2   4   1   4   4   8   8\n",
      "   4   4   8  16   4   1   5   2   3   1   1   3   2   2   8   1   4   1\n",
      "   2   8   8   1   3   8   3   2   2   2   1   2   8   3   4   8   3   1\n",
      "   1   8   1   8   3   8   8   8   0   3   1   3  24   1   8   8   8   4\n",
      "   8   2   2   3   1   8   8   2   0   0   4   0   2   8   2  32   1   3\n",
      "   1   3   3   4   2   8   8  16   2   3   2  80  24  16   2   2   3   2\n",
      "   8   3   2   8   2   3   8   3   2   8   3   8   2   3   2   2   2   2\n",
      "   2   2   8   3   3   3   2   2   3   3   2   2   8   2   5   3   2   2\n",
      "   2   2   2   2   2   2   2   2   3   3 112   2   2   3   2   3   3   8\n",
      "   8   2   3   2   4   2   3   8   2   8   2   2   3   3   2   3   3   8\n",
      "  24   3   3   2 104   8   8   8   8   8   8   2  24   2   3   2   2   8\n",
      "   2   8   3   2   4   8   2   2   8   3   2   3   8   1   2   8  64   8\n",
      "   2   2   3   1   0   2   0   1  48   8   8   8   3   8   2   2   2   8\n",
      "   2   8   8   1   8   3   8   8   8  24   8   2   0   0   3   2   2   3\n",
      "   3   8   2   3   3   4   2   8   4 120  16   2   8   8  80   8   4   0\n",
      "   0   0]\n",
      "[1 1 1 1 1 1 1 1 1 3 1 1 1 1 1 1 1 1 1 1 2 1 1 1 1 1 1 1 1 1 1 1 3 1 1 1 1\n",
      " 1 1 1 1 1 1 1 1 1 1 1 1 1 1 1 1 1 1 1 1 1 1 1 1 1 1 1 1 3 1 1 1 1 1 1 1 1\n",
      " 1 1 1 1 1 1 1 1 1 2 1 1 1 1 1 1 1 2 1 1 1 1 1 1 1 1 1 3 1 1 1 1 1 1 1 1 1\n",
      " 1 1 1 1 1 1 1 1 1 1 1 1 1 1 1 1 1 1 3 1 1 1 1 1 1 1 1 1 1 1 1 1 1 1 1 1 1\n",
      " 3 1 1 2 2 1 1 1 1 1 2 1 1 3 1 1 2 1 1 1 1 2 1 1 1 1 1 1 3 1 1 1 1 1 1 1 1\n",
      " 1 1 1 1 1 1 1 1 1 1 1 1 1 1 1 1 1 3 1 1 1 1 1 1 1 1 1 1 1 2 1 1 1 1 1 1 1\n",
      " 1 1 1 1 1 1 1 3 1 1 1 1 1 1 1 1 1 1 2 3 1 2 2 1 1 1 1 1 1 1 1 1 1 1 1 1 1\n",
      " 1 1 2 3 1 1 3 1 3 1 1 1 1 1 1 1 1 1 1 1 1 1 1 1 1 1 1 1 1 1 1 3 1 1 1 1 3\n",
      " 1 1 1 3 1 1 1 1 1 1 1 1 3 1 1 1 1 1 3 3 1 1 1 1 1 1 1 1 1 2 3 1 3 1 1 1 1\n",
      " 1 1 1 1 1 1 1 1 1 3 1 1 1 1 1 3 1 3 1 1 3 1 1 1 1 1 1 1 3 1 1 1 1 1 1 1 1\n",
      " 1 1 1 1 1 1 1 1 1 1 1 1 1 1 1 1 1 1 1 1 1 1 1 1 1 3 2 1 1 1 1 3 1 1 1 3 1\n",
      " 1 1 1 1 1 1 1 2 1 1 2 1 1 1 1 1 1 1 1 1 1 3 1 1 1 2 2 1 1 2 3 1 3 3 1 1 1\n",
      " 1 1 1 1 1 1 1 1 1 1 1 1 3 1 2 3 3 1 1 2 2 1 1 1 1 1 1 1 1 1 1 1 1 1 1 1 1\n",
      " 2 1 1 1 1 1 1 2 2 3 1 1 1 1 1 1 1 1 1 3 1 1 1 3 1 1 1 3 1 1 1 1 1 1 1 1 1\n",
      " 1 1 1 1 1 1 1 1 1 1 3 1 1 1 1 1 2 1 1 1 3 1 1 1 1 1 1 1 1 1 1 1 1 1 1 1 1\n",
      " 1 1 1 3 1 1 1 2 1 2 3 1 1 1 1 3 3 2 2 3 2 1 2 3 1 3 1 1 1 1 1 1 1 1 1 1 3\n",
      " 4 1 2 1 1 1 1 1 3 2 1 2 3 1 1 1 1 3 1 1 1 1 1 1 1 3 1 1 1 1 1 1 1 1 1 3 3\n",
      " 1 1 1 1 3 1 1 1 1 1 1 1 1 1 1 3 1 1 1 1 1 1 3 1 1 1 1 1 1 1 3 1 2 1 1 1 3\n",
      " 3 1 3 3 1 1 1 3 3 4 3 1 1 3 1 4 1 4 3 1 1 1 1 3 1 2 1 3 1 2 1 2 3 1 3 1 1\n",
      " 2 1 1 1 3 1 1 1 1 2 3 1 2 1 3 1 3 1 2 1 1 2 1 2 1 1 1 1 1 1 1 1 1 3 1 1 1]\n"
     ]
    }
   ],
   "source": [
    "print(df2['Absenteeism time in hours'])\n",
    "\n",
    "x=df2['Absenteeism time in hours'].to_numpy()\n",
    "\n",
    "print(x)\n",
    "\n",
    "y=df2['Education'].to_numpy()\n",
    "y\n",
    "print(y)\n",
    "\n",
    "\n",
    "\n"
   ]
  },
  {
   "cell_type": "code",
   "execution_count": 11,
   "metadata": {},
   "outputs": [
    {
     "data": {
      "image/png": "[encoded data removed]",
      "text/plain": [
       "<Figure size 432x288 with 1 Axes>"
      ]
     },
     "metadata": {},
     "output_type": "display_data"
    }
   ],
   "source": [
    "ax = sns.regplot(x=x, y=y, fit_reg=False, scatter_kws={'alpha':0.5})\n",
    "ax.set(xlabel='Absenteeism time in hours', \n",
    "       ylabel='Education');"
   ]
  },
  {
   "cell_type": "code",
   "execution_count": 12,
   "metadata": {},
   "outputs": [],
   "source": [
    "from numpy.linalg import inv\n",
    "from numpy.linalg import det\n",
    "from numpy import dot"
   ]
  },
  {
   "cell_type": "code",
   "execution_count": 13,
   "metadata": {},
   "outputs": [
    {
     "name": "stdout",
     "output_type": "stream",
     "text": [
      "(740,)\n",
      "[  4   0   2   4   2   2   8   4  40   8   8   8   8   1   4   8   2   8\n",
      "   8   2   8   1  40   4   8   7   1   4   8   2   8   8   4   8   2   1\n",
      "   8   4   8   4   2   4   4   8   2   3   3   4   8  32   0   0   2   2\n",
      "   0   0   3   3   0   1   3   4   3   3   0   1   3   3   3   2   2   5\n",
      "   8   3  16   8   2   8   1   3   1   1   8   8   5  32   8  40   1   8\n",
      "   3   8   3   4   1   3  24   3   1  64   2   8   2   8  56   8   3   3\n",
      "   2   8   2   8   2   1   1   1   8   2   2   2   1   2   2   2   2   2\n",
      "   2   2   2   8   8   2   2   2   0   1   3   1   8   8   2   8   2   8\n",
      "   8   8   2   2   1   8   3   8   1   1   8   2   8   3   8   8   8   8\n",
      "   3  40  40  16  16   8   8   8   4   1   8  24   2   8   1   8  16   3\n",
      "  16   2   3   1   1   1   1  24   1   2   4  24   1   3   8   1   8  56\n",
      "   8  24   8  16   3   0   8   2   1   8   8   4   2   1  24   0   0   0\n",
      "   0   1  24   8   8   8  24   4   8   8   4   8   8  16   1  80   8   2\n",
      "   2   2  16   8   8   4   8   8   2   8   8   3   8   8   8  32   8   0\n",
      "   8   3   1   8   1   2   4   4   1   8   1   3   2   1   1   8   8   8\n",
      "   8   3  24   0  16   3   0   0   8  32   1   4   4   8   1   0   3  40\n",
      "   8   8   4   8   8   0   0   8   3   8   1  64   0  16   3   0   2   2\n",
      "   1   4  16   1   8   0   0   0   5   5   1   8   2   8   3   1   8 120\n",
      "   8   0   1   3   2   3   8   4   8   1   8   8   0   0   1   3   2   1\n",
      "   3   1   4   8   1   1   1   8   2   1   8   4   8   2   3   8   5  32\n",
      "   2   1   4   8   8   8   4   1   1   2   3   1   3   3   3   2   3   8\n",
      "   8   3   8   3   2   2  16   3   3  24   3   3   8  16   2   4   2   8\n",
      "   8   8  16   8   0   8   2   3   8   0   0   0   8   8   8   2   4   3\n",
      "   4   4   4   8   8   1 120   8   4   4   2  16   2   8   3   4   1   3\n",
      "   2   3   8   3   8   2   1   8   3   3   3   2   4   4   0  40  24   3\n",
      "   4   8   2   2   2   8   2   2   1   8   2   4   8   8   8   8   4   8\n",
      "   8   1   2 112   1   1   8   8   8   2   1   2   4   1   4   4   8   8\n",
      "   4   4   8  16   4   1   5   2   3   1   1   3   2   2   8   1   4   1\n",
      "   2   8   8   1   3   8   3   2   2   2   1   2   8   3   4   8   3   1\n",
      "   1   8   1   8   3   8   8   8   0   3   1   3  24   1   8   8   8   4\n",
      "   8   2   2   3   1   8   8   2   0   0   4   0   2   8   2  32   1   3\n",
      "   1   3   3   4   2   8   8  16   2   3   2  80  24  16   2   2   3   2\n",
      "   8   3   2   8   2   3   8   3   2   8   3   8   2   3   2   2   2   2\n",
      "   2   2   8   3   3   3   2   2   3   3   2   2   8   2   5   3   2   2\n",
      "   2   2   2   2   2   2   2   2   3   3 112   2   2   3   2   3   3   8\n",
      "   8   2   3   2   4   2   3   8   2   8   2   2   3   3   2   3   3   8\n",
      "  24   3   3   2 104   8   8   8   8   8   8   2  24   2   3   2   2   8\n",
      "   2   8   3   2   4   8   2   2   8   3   2   3   8   1   2   8  64   8\n",
      "   2   2   3   1   0   2   0   1  48   8   8   8   3   8   2   2   2   8\n",
      "   2   8   8   1   8   3   8   8   8  24   8   2   0   0   3   2   2   3\n",
      "   3   8   2   3   3   4   2   8   4 120  16   2   8   8  80   8   4   0\n",
      "   0   0]\n",
      "(740,)\n",
      "(740,)\n",
      "[0.037845]\n",
      "[0.037845]\n"
     ]
    },
    {
     "name": "stderr",
     "output_type": "stream",
     "text": [
      "C:\\Users\\Bekki\\Anaconda3\\lib\\site-packages\\ipykernel_launcher.py:8: FutureWarning: `rcond` parameter will change to the default of machine precision times ``max(M, N)`` where M and N are the input matrix dimensions.\n",
      "To use the future default and silence this warning we advise to pass `rcond=None`, to keep using the old, explicitly pass `rcond=-1`.\n",
      "  \n"
     ]
    }
   ],
   "source": [
    "\n",
    "print(x.shape)\n",
    "print(x)\n",
    "z=np.reshape(x,(-1,1))\n",
    "print(x.shape)\n",
    "print(y.shape)\n",
    "w=np.reshape(y,(-1,1))\n",
    "beta = np.linalg.lstsq(z, w)[0]\n",
    "print(beta[0])\n",
    "beta2 = dot(dot(inv(dot(z.T, z)),z.T),w) \n",
    "print(beta2[0])"
   ]
  },
  {
   "cell_type": "code",
   "execution_count": 14,
   "metadata": {},
   "outputs": [
    {
     "data": {
      "image/png": "[encoded data removed]",
      "text/plain": [
       "<Figure size 432x288 with 1 Axes>"
      ]
     },
     "metadata": {},
     "output_type": "display_data"
    }
   ],
   "source": [
    "predictions = z* beta # making use of numpy's broadcast\n",
    "predictions_withouth_intercept = predictions\n",
    "\n",
    "ax = sns.regplot(x=x, y=y, fit_reg=False, scatter_kws={'alpha':0.5})\n",
    "ax.set(xlabel='Absenteeism time in hours', \n",
    "       ylabel='Education',\n",
    "       title='Linear Regression Relation bt. X & Y');\n",
    "plt.plot(z, predictions) # overlay a line plot over a scatter plot \n",
    "plt.show()"
   ]
  },
  {
   "cell_type": "code",
   "execution_count": 29,
   "metadata": {},
   "outputs": [
    {
     "name": "stdout",
     "output_type": "stream",
     "text": [
      "Estimated coefficients: [[0.07918996]]\n"
     ]
    },
    {
     "name": "stderr",
     "output_type": "stream",
     "text": [
      "C:\\Users\\Bekki\\Anaconda3\\lib\\site-packages\\ipykernel_launcher.py:13: FutureWarning: `rcond` parameter will change to the default of machine precision times ``max(M, N)`` where M and N are the input matrix dimensions.\n",
      "To use the future default and silence this warning we advise to pass `rcond=None`, to keep using the old, explicitly pass `rcond=-1`.\n",
      "  del sys.path[0]\n"
     ]
    },
    {
     "data": {
      "image/png": "[encoded data removed]",
      "text/plain": [
       "<Figure size 432x288 with 1 Axes>"
      ]
     },
     "metadata": {},
     "output_type": "display_data"
    }
   ],
   "source": [
    "\n",
    "\n",
    "mask = x != 0\n",
    "x_masked = x[mask]\n",
    "y_masked=y[mask]\n",
    "x_log= np.log(x_masked)\n",
    "y_log = np.log(y_masked)\n",
    "x_log_reshaped=np.reshape(x_log,(-1,1))\n",
    "y_log_reshaped=np.reshape(y_log,(-1,1))\n",
    "\n",
    "\n",
    "# estimate the coefficients\n",
    "beta = np.linalg.lstsq(x_log_reshaped, y_log_reshaped)[0]\n",
    "print('Estimated coefficients:', beta)\n",
    "\n",
    "beta = np.reshape(beta,(-1,1))\n",
    "\n",
    "# compute new predictions\n",
    "predictions = dot(x_log_reshaped,beta) \n",
    "\n",
    "ax = sns.regplot(x=x_log_reshaped, y=y_log_reshaped, fit_reg=False, scatter_kws={'alpha':0.5})\n",
    "ax.set(xlabel='Absenteeism at work', \n",
    "       ylabel='Education',\n",
    "       title='Linear Regression Relation bt. X & Log(Y)');\n",
    "plt.plot(x_log_reshaped, predictions) # overlay a line plot over a scatter plot \n",
    "plt.show()\n"
   ]
  },
  {
   "cell_type": "code",
   "execution_count": 30,
   "metadata": {},
   "outputs": [
    {
     "name": "stdout",
     "output_type": "stream",
     "text": [
      "[[1. 4.]\n",
      " [1. 0.]\n",
      " [1. 2.]\n",
      " [1. 4.]\n",
      " [1. 2.]]\n"
     ]
    }
   ],
   "source": [
    "constant_term = np.ones(len(x)) \n",
    "\n",
    "# append constant term as a column of x\n",
    "x = np.c_[constant_term, x]\n",
    "\n",
    "print(x[:5])"
   ]
  },
  {
   "cell_type": "code",
   "execution_count": 31,
   "metadata": {},
   "outputs": [
    {
     "name": "stdout",
     "output_type": "stream",
     "text": [
      "Estimated coefficients: [ 1.30805989 -0.00233496]\n",
      "Old shape of coefficients array: (2,)\n",
      "New shape of coefficients array: (2, 1)\n"
     ]
    },
    {
     "name": "stderr",
     "output_type": "stream",
     "text": [
      "C:\\Users\\Bekki\\Anaconda3\\lib\\site-packages\\ipykernel_launcher.py:1: FutureWarning: `rcond` parameter will change to the default of machine precision times ``max(M, N)`` where M and N are the input matrix dimensions.\n",
      "To use the future default and silence this warning we advise to pass `rcond=None`, to keep using the old, explicitly pass `rcond=-1`.\n",
      "  \"\"\"Entry point for launching an IPython kernel.\n"
     ]
    }
   ],
   "source": [
    "beta = np.linalg.lstsq(x, y)[0]\n",
    "print('Estimated coefficients:', beta)\n",
    "\n",
    "# to use the dot product function we have to state that the coefficients vector is of the shape (2,1)\n",
    "print('Old shape of coefficients array:',beta.shape)\n",
    "beta = np.reshape(beta,(-1,1))\n",
    "print('New shape of coefficients array:',beta.shape)"
   ]
  },
  {
   "cell_type": "code",
   "execution_count": 32,
   "metadata": {},
   "outputs": [
    {
     "data": {
      "image/png": "[encoded data removed]",
      "text/plain": [
       "<Figure size 432x288 with 1 Axes>"
      ]
     },
     "metadata": {},
     "output_type": "display_data"
    }
   ],
   "source": [
    "# compute new predictions\n",
    "predictions_with_intercept = dot(x,beta) \n",
    "\n",
    "ax = sns.regplot(x=x[:,1], y=y, fit_reg=False, scatter_kws={'alpha':0.5})\n",
    "ax.set(xlabel='Bat Average', \n",
    "       ylabel='Home runs',\n",
    "       title='Linear Regression Relation bt. X & Y');\n",
    "plt.plot(x[:,1], predictions_with_intercept) # overlay a line plot over a scatter plot \n",
    "plt.show()"
   ]
  },
  {
   "cell_type": "code",
   "execution_count": null,
   "metadata": {},
   "outputs": [],
   "source": []
  }
 ],
 "metadata": {
  "kernelspec": {
   "display_name": "Python 3",
   "language": "python",
   "name": "python3"
  },
  "language_info": {
   "codemirror_mode": {
    "name": "ipython",
    "version": 3
   },
   "file_extension": ".py",
   "mimetype": "text/x-python",
   "name": "python",
   "nbconvert_exporter": "python",
   "pygments_lexer": "ipython3",
   "version": "3.6.8"
  }
 },
 "nbformat": 4,
 "nbformat_minor": 2
}
