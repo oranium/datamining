{
 "cells": [
  {
   "cell_type": "markdown",
   "metadata": {},
   "source": [
    "# Data Analysis and Mining 2018/ 2019\n",
    "\n",
    "## Linear Regression Tutorial\n",
    "\n"
   ]
  },
  {
   "cell_type": "markdown",
   "metadata": {},
   "source": [
    "#### Important Note:  \n",
    "**Do not** select the option *Run All Cells* on this notebook or otherwise you will lose the reference plots for the exercises."
   ]
  },
  {
   "cell_type": "markdown",
   "metadata": {},
   "source": [
    "### Objectives \n",
    "This tutorial explains how to:\n",
    "- Perform simple linear regression \n",
    "- Use correlation analysis to determine whether two quantities are related to justify fitting the data.\n",
    "- Fit a linear model to the data.\n",
    "- Evaluate the goodness of fit by plotting residuals and looking for patterns.\n",
    "- Calculate measures of goodness of fit R2 and adjusted R2"
   ]
  },
  {
   "cell_type": "markdown",
   "metadata": {},
   "source": [
    "We are going to explore the Baseball dataset presented in class."
   ]
  },
  {
   "cell_type": "markdown",
   "metadata": {},
   "source": [
    "### Setup"
   ]
  },
  {
   "cell_type": "markdown",
   "metadata": {},
   "source": [
    "We will make use of the following Python libraries:"
   ]
  },
  {
   "cell_type": "code",
   "execution_count": 1,
   "metadata": {},
   "outputs": [],
   "source": [
    "# Numpy for data management\n",
    "import numpy as np\n",
    "\n",
    "# Pandas also for data management\n",
    "import pandas as pd\n",
    "\n",
    "# Matplotlib for additional customization\n",
    "from matplotlib import pyplot as plt\n",
    "%matplotlib inline\n",
    "\n",
    "# Seaborn for plotting and styling\n",
    "import seaborn as sns\n",
    "sns.set_style(\"darkgrid\")\n",
    "\n",
    "# Stats modules\n",
    "import statsmodels.api as sm\n",
    "import scipy.stats as stats\n",
    "\n",
    "# Auxiliar libraries\n",
    "from sklearn.metrics import r2_score"
   ]
  },
  {
   "cell_type": "markdown",
   "metadata": {},
   "source": [
    "### Load dataset"
   ]
  },
  {
   "cell_type": "code",
   "execution_count": 2,
   "metadata": {},
   "outputs": [
    {
     "name": "stdout",
     "output_type": "stream",
     "text": [
      "12K\tbaseball_DataSet.txt\r\n"
     ]
    }
   ],
   "source": [
    "!du -h baseball_DataSet.txt"
   ]
  },
  {
   "cell_type": "code",
   "execution_count": 3,
   "metadata": {},
   "outputs": [
    {
     "name": "stdout",
     "output_type": "stream",
     "text": [
      "156\t696\t128\t209\t51\t2\t39\t102\t23\t157\t0.3\t0.332\t0.547\t41\t13\r",
      "\r\n",
      "162\t662\t108\t204\t30\t0\t34\t131\t38\t84\t0.308\t0.354\t0.508\t7\t2\r",
      "\r\n",
      "157\t647\t111\t208\t27\t8\t8\t51\t68\t62\t0.321\t0.388\t0.425\t31\t15\r",
      "\r\n",
      "157\t644\t124\t191\t26\t0\t18\t75\t73\t114\t0.297\t0.373\t0.421\t32\t3\r",
      "\r\n",
      "158\t638\t93\t195\t56\t3\t29\t123\t30\t80\t0.306\t0.332\t0.539\t6\t4\r",
      "\r\n",
      "162\t637\t114\t174\t44\t7\t29\t105\t71\t135\t0.273\t0.346\t0.501\t35\t7\r",
      "\r\n",
      "156\t635\t101\t197\t56\t5\t24\t120\t41\t63\t0.31\t0.352\t0.528\t5\t2\r",
      "\r\n",
      "156\t634\t94\t186\t43\t4\t18\t83\t25\t95\t0.293\t0.33\t0.459\t4\t2\r",
      "\r\n",
      "150\t625\t99\t177\t28\t4\t10\t73\t27\t67\t0.283\t0.313\t0.389\t23\t3\r",
      "\r\n",
      "162\t624\t125\t187\t27\t2\t57\t142\t87\t122\t0.3\t0.392\t0.623\t9\t4\r",
      "\r\n"
     ]
    }
   ],
   "source": [
    "!head -10 baseball_DataSet.txt"
   ]
  },
  {
   "cell_type": "markdown",
   "metadata": {},
   "source": [
    "Having a small glance at the data file we can check that:  \n",
    "    - The data fits in RAM\n",
    "    - The data is structured, tabular and tab separated\n",
    "    - No header row\n",
    "    - No index column\n",
    "    - The features are all numerical continous and numerical discrete"
   ]
  },
  {
   "cell_type": "code",
   "execution_count": 4,
   "metadata": {},
   "outputs": [
    {
     "data": {
      "text/plain": [
       "(209, 15)"
      ]
     },
     "execution_count": 4,
     "metadata": {},
     "output_type": "execute_result"
    }
   ],
   "source": [
    "# load the text file\n",
    "data = np.loadtxt('baseball_DataSet.txt') \n",
    "data.shape"
   ]
  },
  {
   "cell_type": "markdown",
   "metadata": {},
   "source": [
    "The data in this file has already excluded the players whose number of bats were less than 100, as stated in the slides.  \n",
    "The data file *baseball_Content.txt* contains the complete dataset and a header row."
   ]
  },
  {
   "cell_type": "markdown",
   "metadata": {},
   "source": [
    "### Features to be analysed"
   ]
  },
  {
   "cell_type": "markdown",
   "metadata": {},
   "source": [
    "We will seek to model the relationship between the number of home runs, the dependent variable, and the batting average of baseball players(the independent variable)."
   ]
  },
  {
   "cell_type": "code",
   "execution_count": 5,
   "metadata": {},
   "outputs": [],
   "source": [
    "# You can check the indexes in the file baseball_Content.txt\n",
    "x = data[:,10:11] # Bat_Average\n",
    "y = data[:,6] # Home_runs"
   ]
  },
  {
   "cell_type": "code",
   "execution_count": 6,
   "metadata": {},
   "outputs": [
    {
     "data": {
      "image/png": "[encoded data removed]",
      "text/plain": [
       "<Figure size 432x288 with 1 Axes>"
      ]
     },
     "metadata": {
      "needs_background": "light"
     },
     "output_type": "display_data"
    }
   ],
   "source": [
    "ax = sns.regplot(x=x, y=y, fit_reg=False, scatter_kws={'alpha':0.5})\n",
    "ax.set(xlabel='Bat Average', \n",
    "       ylabel='Home runs');"
   ]
  },
  {
   "cell_type": "markdown",
   "metadata": {},
   "source": [
    "#### Pre-processing details in Numpy"
   ]
  },
  {
   "cell_type": "markdown",
   "metadata": {},
   "source": [
    "When slicing numpy d-arrays to a 1D array, column slice or row slice, numpy will 'change' you numpy array shape attribute to (vector size,) instead of (vector size,1) or (1, vector size).  \n",
    "Down the line, when using matrix operations on these vectors you may encounter some errors due to dimensions mismatch. To avoid this just use start:end slice syntax, knowing that the end argument is exclusive."
   ]
  },
  {
   "cell_type": "code",
   "execution_count": 7,
   "metadata": {},
   "outputs": [
    {
     "name": "stdout",
     "output_type": "stream",
     "text": [
      "(209,)\n",
      "(209, 1)\n",
      "(209, 1)\n"
     ]
    }
   ],
   "source": [
    "print(data[:,10].shape)\n",
    "print(data[:,10:11].shape)\n",
    "\n",
    "# you can always use reshape if you need to reshape a vector\n",
    "# notice the -1 argument stating that the row value is undetermined and to be defined by numpy\n",
    "print(np.reshape(data[:,10],(-1,1)).shape) "
   ]
  },
  {
   "cell_type": "markdown",
   "metadata": {},
   "source": [
    "### Linear Regression"
   ]
  },
  {
   "cell_type": "markdown",
   "metadata": {},
   "source": [
    "To model a linear relationship between one independent and dependent variable, consider\n",
    "\n",
    "$$Y = \\beta X + \\epsilon$$.\n",
    "\n",
    "Use Least Squares error to estimate the coefficients:  \n",
    "\n",
    "$$\\sum{ (Y - \\hat{Y})^2}, \\quad \\hat{Y} = X\\hat{\\beta}$$\n",
    "\n",
    "$$\\hat{\\beta} = (X^TX)^{-1}X^TY$$  \n",
    "\n",
    "Although it is perfectly fine to use the analytical formula to obtain the linear regression coefficients it may be faster to use stable linear algebra solvers."
   ]
  },
  {
   "cell_type": "markdown",
   "metadata": {},
   "source": [
    "Numpy has several linear algebra routines implemented to aid in linear algebra operations.  \n",
    "https://docs.scipy.org/doc/numpy-1.13.0/reference/routines.linalg.html"
   ]
  },
  {
   "cell_type": "markdown",
   "metadata": {},
   "source": [
    "Using Numpy to estimate the coefficients using the formula above"
   ]
  },
  {
   "cell_type": "code",
   "execution_count": 8,
   "metadata": {},
   "outputs": [
    {
     "name": "stdout",
     "output_type": "stream",
     "text": [
      "Estimated coefficient: 46.38518284347039\n"
     ]
    }
   ],
   "source": [
    "# re-importing to ease readability\n",
    "from numpy.linalg import inv\n",
    "from numpy.linalg import det\n",
    "from numpy import dot\n",
    "\n",
    "beta = dot(dot(inv(dot(x.T, x)),x.T),y) \n",
    "print('Estimated coefficient:', beta[0])"
   ]
  },
  {
   "cell_type": "markdown",
   "metadata": {},
   "source": [
    "One of the linear algebra routines includes a solver for linear systems, *linalg.lstsq*   \n",
    "https://docs.scipy.org/doc/numpy/reference/generated/numpy.linalg.lstsq.html#numpy-linalg-lstsq"
   ]
  },
  {
   "cell_type": "code",
   "execution_count": 9,
   "metadata": {},
   "outputs": [
    {
     "name": "stdout",
     "output_type": "stream",
     "text": [
      "Estimated coefficients: 46.38518284347039\n"
     ]
    },
    {
     "name": "stderr",
     "output_type": "stream",
     "text": [
      "/home/oran/anaconda3/lib/python3.7/site-packages/ipykernel_launcher.py:1: FutureWarning: `rcond` parameter will change to the default of machine precision times ``max(M, N)`` where M and N are the input matrix dimensions.\n",
      "To use the future default and silence this warning we advise to pass `rcond=None`, to keep using the old, explicitly pass `rcond=-1`.\n",
      "  \"\"\"Entry point for launching an IPython kernel.\n"
     ]
    }
   ],
   "source": [
    "beta = np.linalg.lstsq(x, y)[0]\n",
    "print('Estimated coefficients:', beta[0])"
   ]
  },
  {
   "cell_type": "markdown",
   "metadata": {},
   "source": [
    "As expected, the estimated coefficients match.  "
   ]
  },
  {
   "cell_type": "markdown",
   "metadata": {},
   "source": [
    "### Visualize the estimator \n",
    "Plot the actual values of y and the predicted values from the relationship $X\\hat{\\beta}$."
   ]
  },
  {
   "cell_type": "code",
   "execution_count": 10,
   "metadata": {},
   "outputs": [
    {
     "name": "stdout",
     "output_type": "stream",
     "text": [
      "[46.38518284]\n"
     ]
    },
    {
     "data": {
      "image/png": "[encoded data removed]",
      "text/plain": [
       "<Figure size 432x288 with 1 Axes>"
      ]
     },
     "metadata": {
      "needs_background": "light"
     },
     "output_type": "display_data"
    }
   ],
   "source": [
    "print(beta)\n",
    "predictions = x * beta # making use of numpy's broadcast\n",
    "predictions_withouth_intercept = predictions\n",
    "\n",
    "ax = sns.regplot(x=x, y=y, fit_reg=True, scatter_kws={'alpha':0.5})\n",
    "ax.set(xlabel='Bat Average', \n",
    "       ylabel='Home runs',\n",
    "       title='Linear Regression Relation bt. X & Y');\n",
    "plt.plot(x, predictions) # overlay a line plot over a scatter plot \n",
    "plt.show()"
   ]
  },
  {
   "cell_type": "markdown",
   "metadata": {},
   "source": [
    "### Improve the fit \n",
    "Include an intercept term $\\beta_0$ in your model as $\\hat{Y} = \\beta_0 + \\beta_1X$.  \n",
    "Calculate  $\\beta_0$ by padding $X$ with a column of ones.\n"
   ]
  },
  {
   "cell_type": "code",
   "execution_count": 11,
   "metadata": {},
   "outputs": [
    {
     "name": "stdout",
     "output_type": "stream",
     "text": [
      "[[1.    0.3  ]\n",
      " [1.    0.308]\n",
      " [1.    0.321]\n",
      " [1.    0.297]\n",
      " [1.    0.306]]\n"
     ]
    }
   ],
   "source": [
    "constant_term = np.ones(len(x)) \n",
    "# append constant term as a column of x\n",
    "x = np.c_[constant_term, x]\n",
    "print(x[:5])"
   ]
  },
  {
   "cell_type": "code",
   "execution_count": 12,
   "metadata": {},
   "outputs": [
    {
     "name": "stdout",
     "output_type": "stream",
     "text": [
      "Estimated coefficients: [-28.14899118 153.55127216]\n",
      "Old shape of coefficients array: (2,)\n",
      "New shape of coefficients array: (2, 1)\n"
     ]
    },
    {
     "name": "stderr",
     "output_type": "stream",
     "text": [
      "/home/oran/anaconda3/lib/python3.7/site-packages/ipykernel_launcher.py:1: FutureWarning: `rcond` parameter will change to the default of machine precision times ``max(M, N)`` where M and N are the input matrix dimensions.\n",
      "To use the future default and silence this warning we advise to pass `rcond=None`, to keep using the old, explicitly pass `rcond=-1`.\n",
      "  \"\"\"Entry point for launching an IPython kernel.\n"
     ]
    }
   ],
   "source": [
    "beta = np.linalg.lstsq(x, y)[0]\n",
    "print('Estimated coefficients:', beta)\n",
    "\n",
    "# to use the dot product function we have to state that the coefficients vector is of the shape (2,1)\n",
    "print('Old shape of coefficients array:',beta.shape)\n",
    "beta = np.reshape(beta,(-1,1))\n",
    "print('New shape of coefficients array:',beta.shape)"
   ]
  },
  {
   "cell_type": "code",
   "execution_count": 13,
   "metadata": {},
   "outputs": [
    {
     "data": {
      "image/png": "[encoded data removed]",
      "text/plain": [
       "<Figure size 432x288 with 1 Axes>"
      ]
     },
     "metadata": {
      "needs_background": "light"
     },
     "output_type": "display_data"
    }
   ],
   "source": [
    "# compute new predictions\n",
    "predictions_with_intercept = dot(x,beta) \n",
    "\n",
    "ax = sns.regplot(x=x[:,1], y=y, fit_reg=False, scatter_kws={'alpha':0.5})\n",
    "ax.set(xlabel='Bat Average', \n",
    "       ylabel='Home runs',\n",
    "       title='Linear Regression Relation bt. X & Y');\n",
    "plt.plot(x[:,1], predictions_with_intercept) # overlay a line plot over a scatter plot \n",
    "plt.show()"
   ]
  },
  {
   "cell_type": "markdown",
   "metadata": {},
   "source": [
    "### Residuals and Goodness of Fit"
   ]
  },
  {
   "cell_type": "markdown",
   "metadata": {},
   "source": [
    "One measure of goodness of fit is the Coefficient of Determination, or $R^2$ (r-square)  \n",
    "This statistic indicates how closely values you obtain from fitting a model match the dependent variable the model is intended to predict.  \n",
    "The Coefficient of Determination $R^2$ falls between $0$ and $1$. The higher the value of $R^2$, the better the model is at predicting the data.  \n",
    "Statisticians often define $R^2$ using the residual variance from a fitted model:  \n",
    "\n",
    "$$R^2 = 1 – \\frac{SSresid}{SStotal}$$\n",
    "\n",
    "$SSresid$ is the sum of the squared residuals from the regression.   \n",
    "$SStotal$ is the sum of the squared differences from the mean of the dependent variable (total sum of squares).   \n",
    "Both are positive scalars."
   ]
  },
  {
   "cell_type": "markdown",
   "metadata": {},
   "source": [
    "**Exercise** - Complete the code block below."
   ]
  },
  {
   "cell_type": "code",
   "execution_count": 14,
   "metadata": {},
   "outputs": [
    {
     "name": "stdout",
     "output_type": "stream",
     "text": [
      "SStotal: 22473.5024\n",
      "SSreg: 5179.0486\n",
      "SSres: 17294.4538\n",
      "Coefficient of Determinacy, model with intercept: 0.23\n"
     ]
    }
   ],
   "source": [
    "### SSTotal \n",
    "# -> squared sum of deviations from mean\n",
    "def ss_total(y):\n",
    "    #ybar\n",
    "    mean = np.mean(y)\n",
    "    return np.sum((y-mean)**2)\n",
    "\n",
    "### SSResiduals & SSErrors\n",
    "# Watch out for broadcast effects\n",
    "# y shape is (209,) and predictions shape is (209,1)\n",
    "# shapes have to agree when using element-wise operations in numpy\n",
    "# The regression sum of squares, also called the explained sum of squares:\n",
    "# Lecture: SSR -> squared sum of deviations of predictions from mean of dataset\n",
    "def ss_reg(pred, y):\n",
    "    #ybar\n",
    "    y = np.reshape(y,(-1,1))\n",
    "    mean = np.mean(y)\n",
    "    return np.sum((pred-mean)**2)\n",
    "\n",
    "# The sum of squares of residuals, also called the residual sum of squares:\n",
    "# squared element-wise deviation of prediction from actual value\n",
    "def ss_res(pred, y):\n",
    "    y = np.reshape(y,(-1,1))\n",
    "    return np.sum((y-pred)**2)\n",
    "\n",
    "# SStotal\n",
    "sstotal = ss_total(y)\n",
    "\n",
    "# We could also obtain SStotal using the target's variance\n",
    "# don't forget to get an unbiased estimate of the variance \n",
    "ss_total_using_variance = (len(y) - 1 ) * np.var(y, ddof=1) \n",
    "\n",
    "# SSReg\n",
    "ssreg = ss_reg(predictions_with_intercept, y)\n",
    "\n",
    "# SSRes\n",
    "ssres = ss_res(predictions_with_intercept, y)\n",
    "\n",
    "### R^2\n",
    "rsq_with_intercept = 1 - (ssres / sstotal)\n",
    "\n",
    "print('SStotal:', round(sstotal,4))\n",
    "print('SSreg:', round(ssreg,4))\n",
    "print('SSres:', round(ssres,4))\n",
    "print('Coefficient of Determinacy, model with intercept:', np.round(rsq_with_intercept,2))"
   ]
  },
  {
   "cell_type": "markdown",
   "metadata": {},
   "source": [
    "**R:** This should be your output"
   ]
  },
  {
   "cell_type": "markdown",
   "metadata": {},
   "source": [
    "```\n",
    "SStotal: 22473.5024\n",
    "SSreg: 5179.0486\n",
    "SSres: 17294.4538\n",
    "Coefficient of Determinacy, model with intercept: 0.23\n",
    "```"
   ]
  },
  {
   "cell_type": "markdown",
   "metadata": {},
   "source": [
    "We could now use these metrics to compare model fits to the data."
   ]
  },
  {
   "cell_type": "markdown",
   "metadata": {},
   "source": [
    "Scikit-Learn also provides a function (*r2_score*) to compute $R^2$"
   ]
  },
  {
   "cell_type": "code",
   "execution_count": 15,
   "metadata": {},
   "outputs": [
    {
     "name": "stdout",
     "output_type": "stream",
     "text": [
      "Coefficient of Determinacy: 0.23\n"
     ]
    }
   ],
   "source": [
    "print('Coefficient of Determinacy:',round(r2_score(y_true=y, y_pred=predictions_with_intercept),2))"
   ]
  },
  {
   "cell_type": "markdown",
   "metadata": {},
   "source": [
    "The next step would be to check the goodness of fit."
   ]
  },
  {
   "cell_type": "markdown",
   "metadata": {},
   "source": [
    "**Exercise** - Complete the code block below. Your output should match the above."
   ]
  },
  {
   "cell_type": "code",
   "execution_count": null,
   "metadata": {},
   "outputs": [],
   "source": [
    "##### DON'T RUN THIS CELL BLOCK ######"
   ]
  },
  {
   "cell_type": "code",
   "execution_count": 16,
   "metadata": {},
   "outputs": [
    {
     "name": "stdout",
     "output_type": "stream",
     "text": [
      "(209, 2)\n"
     ]
    }
   ],
   "source": [
    "print(x.shape)"
   ]
  },
  {
   "cell_type": "code",
   "execution_count": 17,
   "metadata": {},
   "outputs": [
    {
     "data": {
      "image/png": "[encoded data removed]",
      "text/plain": [
       "<Figure size 1152x432 with 2 Axes>"
      ]
     },
     "metadata": {
      "needs_background": "light"
     },
     "output_type": "display_data"
    }
   ],
   "source": [
    "fig, axs = plt.subplots(ncols=2, # Set the number of columns to split the figure in\n",
    "                        figsize=(16, 6)) # size of the whole figure\n",
    "\n",
    "# re-computing our model values\n",
    "predictions = dot(x,beta)\n",
    "residuals = y - predictions[:,0]\n",
    "degrees_of_freedom = len(y) - x.shape[1]\n",
    "x_val = x[:,1]\n",
    "\n",
    "sm.qqplot(residuals, \n",
    "          stats.t,\n",
    "          distargs=(degrees_of_freedom,), \n",
    "          line='q', \n",
    "          ax=axs[0])\n",
    "axs[0].set_title(label = 'Q-Q plot')\n",
    "axs[0].set_xlim(-3.5,3.5)\n",
    "\n",
    "residuals_standard_error = np.sqrt(ssres / degrees_of_freedom)\n",
    "mean_independent_variable = np.sum(x_val)/len(x_val)\n",
    "leverage = (1 / len(x_val)) +   (x_val-mean_independent_variable)**2\\\n",
    "                                    /np.sum((x_val-mean_independent_variable)**2) \n",
    "leverage = np.reshape(leverage,(-1,1))\n",
    "s_resid = residuals_standard_error * np.sqrt(1-leverage)\n",
    "standardized_rediduals = residuals / s_resid[:,0]\n",
    "sns.regplot(x=predictions[:,0], \n",
    "            y=standardized_rediduals, \n",
    "            ax=axs[1],\n",
    "            lowess=True, \n",
    "            scatter_kws={'alpha':0.3}, \n",
    "            line_kws={\"color\":\"r\",\"alpha\":0.4,\"lw\":2})\n",
    "plt.plot(np.arange(len(standardized_rediduals)), [0]*len(standardized_rediduals), 'r-')\n",
    "axs[1].set_ylim(-3.5,3.5)\n",
    "axs[1].set_xlim(0, 30)\n",
    "axs[1].set(ylabel='Standardized Residuals', \n",
    "           xlabel='Fitted values');\n",
    "axs[1].set_title(label = 'Standardized Residuals vs Fitted values');"
   ]
  },
  {
   "cell_type": "markdown",
   "metadata": {},
   "source": [
    "#### Linear Regression through the origin (RTO) details \n",
    "\n",
    "When the Linear Regression model is __forced__ to go through the origin, and it does not go through $(\\bar{x},\\bar{y})$, the definition of $SStotal$ and $SSres$ changes slightly, and thus $R^2$.  \n",
    "You can check the details in \n",
    "https://online.stat.psu.edu/~ajw13/stat501/SpecialTopics/Reg_thru_origin.pdf\n",
    "\n",
    "\"‘It is natural to ask if there is a measure analogous to $R^2$ for the no-intercept model\" (that does not go through $(\\bar{x},\\bar{y})$)\n",
    "\n",
    "$SStotal = \\sum{Y_i^2}$  \n",
    "$SSres = \\sum{\\hat{Y}_i^2}$"
   ]
  },
  {
   "cell_type": "code",
   "execution_count": 18,
   "metadata": {},
   "outputs": [
    {
     "name": "stdout",
     "output_type": "stream",
     "text": [
      "SStotal: 50402.0\n",
      "SSreg: 33107.5462\n",
      "SSres: 17294.4538\n",
      "Coefficient of Determinacy, model without intercept: 0.66\n"
     ]
    }
   ],
   "source": [
    "sstotal = np.sum(y**2)\n",
    "ssreg = np.sum(predictions[:,0]**2)\n",
    "ssres = ss_res(predictions, y)\n",
    "\n",
    "\n",
    "### R^2\n",
    "rsq_without_intercept = 1 - (ssres / sstotal)\n",
    "\n",
    "print('SStotal:', round(sstotal,4))\n",
    "print('SSreg:', round(ssreg,4))\n",
    "print('SSres:', round(ssres,4))\n",
    "print('Coefficient of Determinacy, model without intercept:', np.round(rsq_without_intercept,2))"
   ]
  },
  {
   "cell_type": "markdown",
   "metadata": {},
   "source": [
    "Discrepancy with standard libraries, as refered in the article."
   ]
  },
  {
   "cell_type": "code",
   "execution_count": 19,
   "metadata": {},
   "outputs": [
    {
     "name": "stdout",
     "output_type": "stream",
     "text": [
      "Coefficient of Determinacy: 0.12\n"
     ]
    }
   ],
   "source": [
    "print('Coefficient of Determinacy:',round(r2_score(y_true=y, y_pred=predictions_withouth_intercept),2))"
   ]
  },
  {
   "cell_type": "markdown",
   "metadata": {},
   "source": [
    "### Feature Engineering"
   ]
  },
  {
   "cell_type": "markdown",
   "metadata": {},
   "source": [
    "Do regression analysis with a Log transformation on the target class. Don't forget to eliminate the zero values' cases.  "
   ]
  },
  {
   "cell_type": "code",
   "execution_count": 20,
   "metadata": {},
   "outputs": [],
   "source": [
    "mask = y != 0\n",
    "y_masked = y[mask]\n",
    "x_masked = x[mask]\n",
    "y_masked = np.log(y_masked)"
   ]
  },
  {
   "cell_type": "code",
   "execution_count": 21,
   "metadata": {},
   "outputs": [
    {
     "name": "stderr",
     "output_type": "stream",
     "text": [
      "/home/oran/anaconda3/lib/python3.7/site-packages/ipykernel_launcher.py:2: FutureWarning: `rcond` parameter will change to the default of machine precision times ``max(M, N)`` where M and N are the input matrix dimensions.\n",
      "To use the future default and silence this warning we advise to pass `rcond=None`, to keep using the old, explicitly pass `rcond=-1`.\n",
      "  \n"
     ]
    },
    {
     "name": "stdout",
     "output_type": "stream",
     "text": [
      "Estimated coefficients: [-1.43856132 13.63752354]\n"
     ]
    },
    {
     "data": {
      "image/png": "[encoded data removed]",
      "text/plain": [
       "<Figure size 432x288 with 1 Axes>"
      ]
     },
     "metadata": {
      "needs_background": "light"
     },
     "output_type": "display_data"
    }
   ],
   "source": [
    "# estimate the coefficients\n",
    "beta = np.linalg.lstsq(x_masked, y_masked)[0]\n",
    "print('Estimated coefficients:', beta)\n",
    "beta = np.reshape(beta,(-1,1))\n",
    "\n",
    "# compute new predictions\n",
    "predictions = dot(x_masked,beta) \n",
    "\n",
    "ax = sns.regplot(x=x_masked[:,1], y=y_masked, fit_reg=False, scatter_kws={'alpha':0.5})\n",
    "ax.set(xlabel='Bat Average', \n",
    "       ylabel='Log of Home runs',\n",
    "       title='Linear Regression Relation bt. X & Log(Y)');\n",
    "plt.plot(x_masked[:,1], predictions) # overlay a line plot over a scatter plot \n",
    "plt.show()"
   ]
  },
  {
   "cell_type": "code",
   "execution_count": 22,
   "metadata": {},
   "outputs": [
    {
     "name": "stdout",
     "output_type": "stream",
     "text": [
      "SStotal: 177.7023\n",
      "SSreg: 38.8956\n",
      "SSres: 138.8067\n",
      "Coefficient of Determinacy: 0.22\n"
     ]
    }
   ],
   "source": [
    "# SStotal\n",
    "sstotal = ss_total(y_masked)\n",
    "\n",
    "# SSReg\n",
    "ssreg = ss_reg(predictions, y_masked)\n",
    "\n",
    "# SSRes\n",
    "ssres = ss_res(predictions, y_masked)\n",
    "\n",
    "### R^2\n",
    "rsq = 1 - (ssres / sstotal)\n",
    "\n",
    "print('SStotal:', round(sstotal,4))\n",
    "print('SSreg:', round(ssreg,4))\n",
    "print('SSres:', round(ssres,4))\n",
    "print('Coefficient of Determinacy:', np.round(rsq,2))"
   ]
  },
  {
   "cell_type": "markdown",
   "metadata": {},
   "source": [
    "### Statistical inference"
   ]
  },
  {
   "cell_type": "markdown",
   "metadata": {},
   "source": [
    "The linear system solver from the Numpy library computed the coefficients for the linear system. Namely"
   ]
  },
  {
   "cell_type": "code",
   "execution_count": null,
   "metadata": {},
   "outputs": [],
   "source": [
    "print(beta)"
   ]
  },
  {
   "cell_type": "markdown",
   "metadata": {},
   "source": [
    "We can also look at the ranges of our independent variable to understand a little bit more about the domain of our fitted model."
   ]
  },
  {
   "cell_type": "code",
   "execution_count": 23,
   "metadata": {},
   "outputs": [
    {
     "data": {
      "text/plain": [
       "(0.163, 0.349)"
      ]
     },
     "execution_count": 23,
     "metadata": {},
     "output_type": "execute_result"
    }
   ],
   "source": [
    "np.min(x[:,1]), np.max(x[:,1])"
   ]
  },
  {
   "cell_type": "markdown",
   "metadata": {},
   "source": [
    "First, we should be wary in interpreting our model outside the domain of our independent variables, i.e., outside of the interval range stated above.  \n",
    "\n",
    "Second, in this analysis, it is not wise to interpret the case when the batting average equals zero, not only it is out of the variable's domain, it just dosen't make a lot of sense in general."
   ]
  },
  {
   "cell_type": "markdown",
   "metadata": {},
   "source": [
    "We can interpret our model by stating that we expect a logarithm growth in Home Runs of $(-1.43856132 + 13.63752354 \\cdot BattingAverage)$ for each unit increase in Batting Average. Likewise, we could state that we expect a growth in Home Runs of $(e^{-1.43856132 + 13.63752354 \\cdot BattingAverage})$ for each unit increase in Batting Average.  \n",
    "\n",
    "Plotting the last expression:"
   ]
  },
  {
   "cell_type": "code",
   "execution_count": 25,
   "metadata": {},
   "outputs": [
    {
     "name": "stdout",
     "output_type": "stream",
     "text": [
      "[[14.19224579]\n",
      " [15.82824389]\n",
      " [18.89852239]\n",
      " [13.62332195]\n",
      " [15.40236217]\n",
      " [ 9.82060381]\n",
      " [16.26590143]\n",
      " [12.90007441]\n",
      " [11.25551065]\n",
      " [14.19224579]\n",
      " [11.72555226]\n",
      " [ 9.82060381]\n",
      " [ 6.61271576]\n",
      " [22.25872399]\n",
      " [10.51360598]\n",
      " [12.90007441]\n",
      " [10.09214759]\n",
      " [13.81038295]\n",
      " [18.64254278]\n",
      " [ 6.26165378]\n",
      " [10.09214759]\n",
      " [10.09214759]\n",
      " [14.19224579]\n",
      " [14.78492846]\n",
      " [ 8.45256419]\n",
      " [14.98793941]\n",
      " [ 7.17655575]\n",
      " [ 5.61445287]\n",
      " [10.65796766]\n",
      " [12.2152233 ]\n",
      " [12.2152233 ]\n",
      " [ 7.57891206]\n",
      " [17.17785533]\n",
      " [ 5.69154458]\n",
      " [ 9.42692577]\n",
      " [ 5.9292293 ]\n",
      " [14.19224579]\n",
      " [11.10305527]\n",
      " [ 9.82060381]\n",
      " [ 6.17683996]\n",
      " [ 7.78847213]\n",
      " [ 7.3749905 ]\n",
      " [14.38711864]\n",
      " [ 9.17328074]\n",
      " [10.37119968]\n",
      " [13.07720454]\n",
      " [10.80431156]\n",
      " [ 8.68628111]\n",
      " [11.5667302 ]\n",
      " [ 6.88886952]\n",
      " [ 9.04902907]\n",
      " [ 7.3749905 ]\n",
      " [ 7.07934963]\n",
      " [11.72555226]\n",
      " [ 7.27509659]\n",
      " [14.38711864]\n",
      " [14.98793941]\n",
      " [ 8.3380746 ]\n",
      " [ 6.98346017]\n",
      " [ 7.07934963]\n",
      " [16.71566037]\n",
      " [24.4883302 ]\n",
      " [ 8.3380746 ]\n",
      " [ 8.92646039]\n",
      " [ 6.70351456]\n",
      " [ 8.45256419]\n",
      " [ 6.88886952]\n",
      " [ 6.43479111]\n",
      " [ 8.8055519 ]\n",
      " [ 7.47625604]\n",
      " [ 6.26165378]\n",
      " [16.94518208]\n",
      " [ 9.82060381]\n",
      " [10.23072226]\n",
      " [ 8.92646039]\n",
      " [11.10305527]\n",
      " [14.19224579]\n",
      " [27.68620841]\n",
      " [12.2152233 ]\n",
      " [ 6.70351456]\n",
      " [ 9.17328074]\n",
      " [ 5.61445287]\n",
      " [ 9.42692577]\n",
      " [ 5.9292293 ]\n",
      " [ 9.68758419]\n",
      " [ 6.17683996]\n",
      " [17.17785533]\n",
      " [ 5.69154458]\n",
      " [ 8.92646039]\n",
      " [ 4.57579883]\n",
      " [ 6.43479111]\n",
      " [ 9.29923849]\n",
      " [ 6.52314683]\n",
      " [ 9.42692577]\n",
      " [ 9.04902907]\n",
      " [ 5.61445287]\n",
      " [ 8.22513576]\n",
      " [13.25676683]\n",
      " [ 5.38938659]\n",
      " [11.72555226]\n",
      " [10.09214759]\n",
      " [ 8.11372668]\n",
      " [ 6.70351456]\n",
      " [ 9.55636631]\n",
      " [ 9.68758419]\n",
      " [10.23072226]\n",
      " [ 7.27509659]\n",
      " [ 9.42692577]\n",
      " [ 8.00382662]\n",
      " [ 9.04902907]\n",
      " [10.37119968]\n",
      " [ 5.9292293 ]\n",
      " [ 7.07934963]\n",
      " [ 3.72929213]\n",
      " [ 3.9383763 ]\n",
      " [ 7.78847213]\n",
      " [11.25551065]\n",
      " [10.23072226]\n",
      " [ 5.03414628]\n",
      " [ 8.00382662]\n",
      " [ 4.15918285]\n",
      " [12.55297931]\n",
      " [ 6.88886952]\n",
      " [ 5.61445287]\n",
      " [ 5.24437737]\n",
      " [ 8.22513576]\n",
      " [11.10305527]\n",
      " [ 3.57979618]\n",
      " [ 3.9924539 ]\n",
      " [ 6.70351456]\n",
      " [16.04558054]\n",
      " [ 7.89541516]\n",
      " [ 7.17655575]\n",
      " [ 4.10284691]\n",
      " [14.19224579]\n",
      " [ 7.17655575]\n",
      " [ 8.11372668]\n",
      " [ 4.57579883]\n",
      " [ 3.34383466]\n",
      " [ 2.19099334]\n",
      " [ 7.89541516]\n",
      " [ 6.34763216]\n",
      " [ 5.69154458]\n",
      " [ 5.31638759]\n",
      " [ 8.45256419]\n",
      " [ 8.11372668]\n",
      " [ 7.89541516]\n",
      " [ 6.52314683]\n",
      " [ 8.22513576]\n",
      " [ 9.29923849]\n",
      " [ 5.46338792]\n",
      " [13.62332195]\n",
      " [11.41005937]\n",
      " [11.5667302 ]\n",
      " [13.43879469]\n",
      " [ 7.07934963]\n",
      " [ 8.22513576]\n",
      " [ 6.88886952]\n",
      " [10.09214759]\n",
      " [10.23072226]\n",
      " [11.72555226]\n",
      " [ 8.22513576]\n",
      " [ 6.7955601 ]\n",
      " [ 4.965959  ]\n",
      " [17.65283018]\n",
      " [ 4.39236901]\n",
      " [11.8865551 ]\n",
      " [ 5.69154458]\n",
      " [ 3.88503117]\n",
      " [ 4.39236901]\n",
      " [ 4.10284691]\n",
      " [ 4.57579883]\n",
      " [ 9.95544992]\n",
      " [10.23072226]\n",
      " [ 5.61445287]\n",
      " [ 4.89869532]\n",
      " [ 5.10326984]\n",
      " [ 2.76265706]\n",
      " [ 6.98346017]\n",
      " [ 8.68628111]\n",
      " [ 4.21629234]\n",
      " [ 4.89869532]\n",
      " [ 5.76969483]\n",
      " [ 7.3749905 ]\n",
      " [ 3.67877904]\n",
      " [ 5.17334252]\n",
      " [ 8.00382662]\n",
      " [ 5.24437737]\n",
      " [ 3.88503117]\n",
      " [ 5.53840537]\n",
      " [11.5667302 ]\n",
      " [ 5.24437737]\n",
      " [ 8.22513576]\n",
      " [ 4.76688886]\n",
      " [ 5.03414628]\n",
      " [ 4.39236901]\n",
      " [12.7253435 ]\n",
      " [ 6.34763216]\n",
      " [ 4.39236901]\n",
      " [ 8.11372668]\n",
      " [ 9.17328074]\n",
      " [ 2.725237  ]\n",
      " [ 4.51381984]\n",
      " [ 4.21629234]\n",
      " [11.8865551 ]\n",
      " [ 5.76969483]\n",
      " [ 2.80059093]\n",
      " [ 6.26165378]\n",
      " [ 4.965959  ]]\n"
     ]
    }
   ],
   "source": [
    "# compute new predictions\n",
    "predictions = np.exp(dot(x,beta))\n",
    "print(predictions)"
   ]
  },
  {
   "cell_type": "markdown",
   "metadata": {},
   "source": [
    "#### Plotting details\n",
    "Remember that the instruction *plot* plots a line between each consecutive point that you pass on. If your data is a straight line, then the order of the data that you pass onto *plot* does not matter, but if is not a straight line/function as in the exponential case, then we need to order the data first by the domain. This is ok for continuous functions."
   ]
  },
  {
   "cell_type": "code",
   "execution_count": 26,
   "metadata": {},
   "outputs": [],
   "source": [
    "# order the data first\n",
    "temp = np.c_[x[:,1], predictions]\n",
    "# sort by first column\n",
    "temp = temp[temp[:,0].argsort()] "
   ]
  },
  {
   "cell_type": "code",
   "execution_count": 27,
   "metadata": {
    "scrolled": true
   },
   "outputs": [
    {
     "data": {
      "image/png": "[encoded data removed]",
      "text/plain": [
       "<Figure size 432x288 with 1 Axes>"
      ]
     },
     "metadata": {
      "needs_background": "light"
     },
     "output_type": "display_data"
    }
   ],
   "source": [
    "ax = sns.regplot(x=x[:,1], y=y, fit_reg=False, scatter_kws={'alpha':0.5})\n",
    "ax.set(xlabel='Bat Average', \n",
    "       ylabel='Home runs',\n",
    "       title='Linear Regression bt. X & Log(Y)');\n",
    "\n",
    "# Remeber that the instruction plot \n",
    "plt.plot(temp[:,0], temp[:,1]) # overlay a line plot over a scatter plot \n",
    "plt.show()"
   ]
  },
  {
   "cell_type": "markdown",
   "metadata": {},
   "source": [
    "When we are using more expressive/parsimonious machine learning algorithms, such as linear regression, we do so with the expectation of being capable of obtaining more information about the model fit.  "
   ]
  },
  {
   "cell_type": "markdown",
   "metadata": {},
   "source": [
    "Can we expect for this model to hold for a new collected sample from the same population? What is the degree of uncertainty in our model's parameters/coefficients ?  \n",
    "The good thing about linear regression is that if we validate certain conditions we can infer a degree of uncertainty about our model parameters and see how likely our point estimate varies from the population parameter."
   ]
  },
  {
   "cell_type": "code",
   "execution_count": null,
   "metadata": {},
   "outputs": [],
   "source": [
    "##### DON'T RUN THIS CELL BLOCK ######"
   ]
  },
  {
   "cell_type": "markdown",
   "metadata": {},
   "source": [
    "**Exercise** - Complete the code block below. Your output should match the above."
   ]
  },
  {
   "cell_type": "code",
   "execution_count": 28,
   "metadata": {},
   "outputs": [
    {
     "data": {
      "image/png": "[encoded data removed]",
      "text/plain": [
       "<Figure size 1152x432 with 2 Axes>"
      ]
     },
     "metadata": {
      "needs_background": "light"
     },
     "output_type": "display_data"
    }
   ],
   "source": [
    "fig, axs = plt.subplots(ncols=2, # Set the number of columns to split the figure in\n",
    "                        figsize=(16, 6)) # size of the whole figure\n",
    "\n",
    "# re-computing our model values\n",
    "predictions = dot(x_masked,beta)\n",
    "residuals = y_masked - predictions[:,0]\n",
    "degrees_of_freedom = len(x_masked) - x.shape[1]\n",
    "\n",
    "sm.qqplot(residuals, \n",
    "          stats.t,\n",
    "          distargs=(degrees_of_freedom,), \n",
    "          line='q', \n",
    "          ax=axs[0])\n",
    "axs[0].set_title(label = 'Q-Q plot')\n",
    "axs[0].set_xlim(-3.5,3.5)\n",
    "\n",
    "'''\n",
    "recall the solution for our reference dataset\n",
    "\n",
    "residuals_standard_error = np.sqrt(ssres / degrees_of_freedom)\n",
    "mean_independent_variable = np.sum(x_val)/len(x_val)\n",
    "leverage = (1 / len(x_val)) +   (x_val-mean_independent_variable)**2\\\n",
    "                                    /np.sum((x_val-mean_independent_variable)**2) \n",
    "leverage = np.reshape(leverage,(-1,1))\n",
    "s_resid = residuals_standard_error * np.sqrt(1-leverage)\n",
    "standardized_rediduals = residuals / s_resid[:,0]\n",
    "\n",
    "'''\n",
    "\n",
    "residuals_standard_error = np.sqrt(ssres  / degrees_of_freedom)\n",
    "mean_independent_variable = np.sum(x_masked) / len(x_masked)\n",
    "leverage = (1 / len(x_masked)) + (x_masked - mean_independent_variable) ** 2\\\n",
    "                                 / np.sum((x_masked - mean_independent_variable)**2)\n",
    "s_resid = residuals_standard_error * np.sqrt(1-leverage)\n",
    "standardized_rediduals = residuals / s_resid[:,0]\n",
    "\n",
    "\n",
    "sns.regplot(x=predictions[:,0], \n",
    "            y=standardized_rediduals, \n",
    "            ax=axs[1],\n",
    "            lowess=True, \n",
    "            scatter_kws={'alpha':0.3}, \n",
    "            line_kws={\"color\":\"r\",\"alpha\":0.4,\"lw\":2})\n",
    "plt.plot(np.arange(len(standardized_rediduals)), [0]*len(standardized_rediduals), 'r-')\n",
    "axs[1].set_ylim(-3.5,3.5)\n",
    "axs[1].set(ylabel='Standardized Residuals', \n",
    "           xlabel='Fitted values');\n",
    "axs[1].set_title(label = 'Standardized Residuals vs Fitted values');"
   ]
  },
  {
   "cell_type": "markdown",
   "metadata": {},
   "source": [
    "The assumptions for inference on linear regression models "
   ]
  },
  {
   "cell_type": "markdown",
   "metadata": {},
   "source": [
    "1. Zero Mean Assumption  \n",
    "    $E(\\epsilon |X) = 0$, in the second figure we can check that the mean of residuals along the domain falls relatively on a straight line, as shown by over positioning of the lowess curve (applied to the data) and the horizontal line at zero.  \n",
    "2. Constant Variance Assumption  \n",
    "    Checking the second figure, the constant variance assumption in our model is slightly violated. A good example is presented below.  \n",
    "    <img src='https://i.stack.imgur.com/Cc2x4.png' height=\"400\" width=\"400\">  \n",
    "    Source:https://stats.stackexchange.com/q/52092\n",
    "3. Independence Assumption  \n",
    "    In the second figure, the points are more or less symmetrically distributed around the horizontal line, meaning the model does not systematically underpredicts or overpredicts when the independent variable has a particular configuration.  \n",
    "4. Normality Assumption  \n",
    "    The first plot shows us that there is a slight S shape, more pronounced at higher values. "
   ]
  },
  {
   "cell_type": "markdown",
   "metadata": {},
   "source": [
    "Having assumed that the necessary assumptions for inference hold in the fitted model, it is necessary to calculate the uncertainty associated with the model's estimated coefficients."
   ]
  },
  {
   "cell_type": "markdown",
   "metadata": {},
   "source": [
    "$\\left|\n",
    "\\begin{array}{l}\n",
    "\\mathbf{y} = \\mathbf{X} \\mathbf{\\beta} + \\mathbf{\\epsilon} \\\\\n",
    " \\mathbf{\\epsilon} \\sim N(0, \\sigma^2 \\mathbf{I}),\n",
    "\\end{array}\n",
    "\\right.$\n",
    "\n",
    "$\\hat{\\mathbf{\\beta}} = (\\mathbf{X}^{\\prime} \\mathbf{X})^{-1} \\mathbf{X}^{\\prime} \\mathbf{y}$\n",
    "\n",
    "$E(\\hat{\\mathbf{\\beta}}|\\mathbf{X}) = E((\\mathbf{X}^{\\prime} \\mathbf{X})^{-1} \\mathbf{X}^{\\prime} (\\mathbf{X}\\mathbf{\\beta}+\\mathbf{\\epsilon})|\\mathbf{X}) = \\mathbf{\\beta} + ((\\mathbf{X}^{\\prime} \\mathbf{X})^{-1} \\mathbf{X}^{\\prime})E(\\mathbf{\\epsilon}|\\mathbf{X}) = \\mathbf{\\beta}$\n",
    "\n",
    "$\\textrm{Var}(\\hat{\\mathbf{\\beta}}) = E(\\hat{\\mathbf{\\beta}}-E(\\hat{\\mathbf{\\beta}}|\\mathbf{X}))^2=\\textrm{Var}((\\mathbf{X}^{\\prime} \\mathbf{X})^{-1} \\mathbf{X}^{\\prime} \\mathbf{\\epsilon})\n",
    "=(\\mathbf{X}^{\\prime} \\mathbf{X})^{-1} \\mathbf{X}^{\\prime}\n",
    " \\;\\sigma^2 \\mathbf{I} \\; \\mathbf{X}  (\\mathbf{X}^{\\prime} \\mathbf{X})^{-1}\n",
    "= \\sigma^2  (\\mathbf{X}^{\\prime} \\mathbf{X})^{-1}$"
   ]
  },
  {
   "cell_type": "markdown",
   "metadata": {},
   "source": [
    "You should compute the coefficients standard errors."
   ]
  },
  {
   "cell_type": "markdown",
   "metadata": {},
   "source": [
    "**Exercise** - Complete the code block below."
   ]
  },
  {
   "cell_type": "code",
   "execution_count": 96,
   "metadata": {},
   "outputs": [
    {
     "name": "stdout",
     "output_type": "stream",
     "text": [
      "Coefficients' Standard Errors: [0.5560935064476284, 2.133675776913448]\n"
     ]
    }
   ],
   "source": [
    "# https://stats.stackexchange.com/questions/44838/how-are-the-standard-errors-of-coefficients-calculated-in-a-regression/44841#44841\n",
    "# k=2 because our inference is based on x and y\n",
    "n = len(x[:,1])\n",
    "sigma_degrees_of_freedom = n - 2\n",
    "# mean squared error\n",
    "sigma_sqr = ssres / sigma_degrees_of_freedom\n",
    "variance_covmatrix = inv((np.matmul(x.T,x)))\n",
    "coeff_stde = [np.sqrt(variance_covmatrix[0,0]),np.sqrt(variance_covmatrix[1,1])]\n",
    "print('Coefficients\\' Standard Errors:',coeff_stde)\n"
   ]
  },
  {
   "cell_type": "markdown",
   "metadata": {},
   "source": [
    "**R:** This should be your output."
   ]
  },
  {
   "cell_type": "markdown",
   "metadata": {},
   "source": [
    "```\n",
    "Coefficients' Standard Errors: [0.47752281 1.82626655]\n",
    "```"
   ]
  },
  {
   "cell_type": "markdown",
   "metadata": {},
   "source": [
    "**Exercise** - Complete the code block below."
   ]
  },
  {
   "cell_type": "code",
   "execution_count": null,
   "metadata": {},
   "outputs": [],
   "source": [
    "expected_value = 0.0\n",
    "\n",
    "# For each coefficient\n",
    "for i in range(len(beta)):    \n",
    "    ttest = None\n",
    "\n",
    "    #Degrees of freedom\n",
    "    df = x_masked.shape[0] - (i+1)\n",
    "    # https://stats.stackexchange.com/a/140395\n",
    "    \n",
    "    pval = stats.t.sf(np.abs(ttest), df)*2  # two-sided pvalue = Prob(abs(t)>tt)\n",
    "    # https://docs.scipy.org/doc/scipy/reference/tutorial/stats.html#t-test-and-ks-test\n",
    "\n",
    "\n",
    "    print('Test statistc for coefficient estimate ',i,':',ttest,'| P-value:', np.round(pval,8))"
   ]
  },
  {
   "cell_type": "markdown",
   "metadata": {},
   "source": [
    "**R:** This should be your output."
   ]
  },
  {
   "cell_type": "markdown",
   "metadata": {},
   "source": [
    "```\n",
    "Test statistc for coefficient estimate  0 : [-3.01254993] | P-value: [0.00292529]\n",
    "Test statistc for coefficient estimate  1 : [7.46743325] | P-value: [0.]\n",
    "```"
   ]
  },
  {
   "cell_type": "markdown",
   "metadata": {},
   "source": [
    "It remains to calculate the confidence intervals. Next, let's consider a 95% confidence interval."
   ]
  },
  {
   "cell_type": "markdown",
   "metadata": {},
   "source": [
    "**Exercise** - Complete the code block below."
   ]
  },
  {
   "cell_type": "code",
   "execution_count": null,
   "metadata": {},
   "outputs": [],
   "source": [
    "df = None\n",
    "one_minus_alpha = None\n",
    "alpha = None\n",
    "t_student_values = stats.t.ppf( [alpha,one_minus_alpha], df)\n",
    "stde = None"
   ]
  },
  {
   "cell_type": "markdown",
   "metadata": {},
   "source": [
    "**R:** This should be your output."
   ]
  },
  {
   "cell_type": "markdown",
   "metadata": {},
   "source": [
    "```\n",
    "array([[-2.38021556, -0.49690708],\n",
    "       [10.03620527, 17.23884181]])\n",
    "```"
   ]
  },
  {
   "cell_type": "markdown",
   "metadata": {},
   "source": [
    "We can also look for the correlation coefficient between the feature Batting Average, independent variable, and the target Home Runs, dependent variable."
   ]
  },
  {
   "cell_type": "code",
   "execution_count": null,
   "metadata": {},
   "outputs": [],
   "source": [
    "print('Correlation:',np.corrcoef(y_masked,x_masked[:,1])[0,1])"
   ]
  },
  {
   "cell_type": "markdown",
   "metadata": {},
   "source": [
    "Check that, in the simple linear regression model,i.e. onde independent variable, the $R^2$ value is equal to the square fo the correlation between the independent variable and the dependent variable ."
   ]
  },
  {
   "cell_type": "code",
   "execution_count": null,
   "metadata": {},
   "outputs": [],
   "source": [
    "print('Correlation:',round((np.corrcoef(y_masked,x_masked[:,1])[0,1])**2,2))"
   ]
  },
  {
   "cell_type": "raw",
   "metadata": {},
   "source": [
    "Correlation does not imply causality.  \n",
    "Always interpret coefficients of correlation and determination cautiously.  \n",
    "The coefficients only quantify how much variance in a dependent variable a fitted model removes.  "
   ]
  }
 ],
 "metadata": {
  "kernelspec": {
   "display_name": "Python 3",
   "language": "python",
   "name": "python3"
  },
  "language_info": {
   "codemirror_mode": {
    "name": "ipython",
    "version": 3
   },
   "file_extension": ".py",
   "mimetype": "text/x-python",
   "name": "python",
   "nbconvert_exporter": "python",
   "pygments_lexer": "ipython3",
   "version": "3.7.4"
  }
 },
 "nbformat": 4,
 "nbformat_minor": 2
}
